{
 "cells": [
  {
   "cell_type": "markdown",
   "id": "cd8b9c0e-f673-4907-be65-c6713622aa72",
   "metadata": {},
   "source": [
    "# Data prep\n",
    "\n",
    "ERA5 data from:\n",
    "https://planetarycomputer.microsoft.com/dataset/era5-pds#Example-Notebook"
   ]
  },
  {
   "cell_type": "markdown",
   "id": "e8d3fab4-3ed8-47f7-894c-b287b14844cc",
   "metadata": {},
   "source": [
    "## Imports"
   ]
  },
  {
   "cell_type": "code",
   "execution_count": null,
   "id": "dc0111ce-440b-4963-9996-57ba8f89f0ed",
   "metadata": {},
   "outputs": [],
   "source": [
    "import numpy as np\n",
    "import planetary_computer as pc\n",
    "import pystac_client\n",
    "import xarray as xr\n",
    "import fsspec\n",
    "from ndpyramid import pyramid_reproject"
   ]
  },
  {
   "cell_type": "markdown",
   "id": "5195420a-6e4f-4296-834a-59dcbdd4ca9e",
   "metadata": {},
   "source": [
    "## Load datasets"
   ]
  },
  {
   "cell_type": "code",
   "execution_count": null,
   "id": "d8b7d5ac-ad0a-4a1a-a8cc-3f5bdffebd12",
   "metadata": {},
   "outputs": [],
   "source": [
    "catalog = pystac_client.Client.open(\n",
    "    \"https://planetarycomputer.microsoft.com/api/stac/v1/\"\n",
    ")\n",
    "search = catalog.search(\n",
    "    collections=[\"era5-pds\"],\n",
    "    # query={\"era5:kind\": {\"eq\": \"an\"}},\n",
    "    datetime=\"2020-01-01\",\n",
    "    # datetime=\"2020\",\n",
    ")\n",
    "items = search.item_collection()\n",
    "print(len(items))"
   ]
  },
  {
   "cell_type": "code",
   "execution_count": null,
   "id": "d9ee8206-857e-4ebe-a640-9c6ab823bcbb",
   "metadata": {},
   "outputs": [],
   "source": [
    "datasets = [\n",
    "    xr.open_dataset(asset.href, **asset.extra_fields[\"xarray:open_kwargs\"])\n",
    "    for it in items\n",
    "    for asset in pc.sign(it).assets.values()\n",
    "]"
   ]
  },
  {
   "cell_type": "markdown",
   "id": "b9633e37-d009-4195-9f28-2149a1f2649e",
   "metadata": {},
   "source": [
    "## Extract desired based data"
   ]
  },
  {
   "cell_type": "code",
   "execution_count": null,
   "id": "eccbd38b-55b3-4176-bf2d-3c39c5f5805d",
   "metadata": {},
   "outputs": [],
   "source": [
    "ds = xr.combine_by_coords(datasets, join=\"exact\")\n",
    "ds = ds.rio.write_crs(\"EPSG:4326\")\n",
    "ds = ds.assign_coords(lon=((ds[\"lon\"] + 180) % 360) - 180)\n",
    "ds = ds.rename({\"lon\": \"x\", \"lat\": \"y\"})\n",
    "ds = ds.sortby([\"x\", \"y\"])"
   ]
  },
  {
   "cell_type": "code",
   "execution_count": null,
   "id": "846a85af-a266-4d03-8c05-a4a375639116",
   "metadata": {},
   "outputs": [],
   "source": [
    "# Uncomment to slice to a specific geograph\n",
    "# ds = ds.sel(y=slice(45, 60)).sel(x=slice(-12, 5))"
   ]
  },
  {
   "cell_type": "code",
   "execution_count": null,
   "id": "364af1d3-b2a6-4ac1-afc2-949b35ac461b",
   "metadata": {},
   "outputs": [],
   "source": [
    "# Uncomment to slice out only a single time stamp\n",
    "# ds = ds.isel(time=0)"
   ]
  },
  {
   "cell_type": "markdown",
   "id": "09479de3-c443-4b0d-9147-5688ab9bec81",
   "metadata": {},
   "source": [
    "## Create arrays of weather \"ok\"ness"
   ]
  },
  {
   "cell_type": "code",
   "execution_count": null,
   "id": "2829e1e0-b477-4a52-9689-d912f56c4b39",
   "metadata": {},
   "outputs": [],
   "source": [
    "ds[\"wind\"] = (\n",
    "    np.sqrt(ds.eastward_wind_at_10_metres**2 + ds.northward_wind_at_10_metres**2)\n",
    "    * 1.94384\n",
    ")"
   ]
  },
  {
   "cell_type": "code",
   "execution_count": null,
   "id": "0ba206eb-1381-4c9f-8f63-215f02c03de9",
   "metadata": {},
   "outputs": [],
   "source": [
    "dsr = ds.wind.resample(time=\"1D\").max(dim=\"time\").to_dataset()\n",
    "dsr[\"rain\"] = ds.precipitation_amount_1hour_Accumulation.resample(time=\"1D\").sum(\n",
    "    dim=\"time\"\n",
    ")\n",
    "dsr[\"temp\"] = ds.air_temperature_at_2_metres.resample(time=\"1D\").max(dim=\"time\")\n",
    "\n",
    "dsr[\"wind_ok\"] = dsr.wind < 10\n",
    "dsr[\"rain_ok\"] = dsr.rain < (1 / 1000)\n",
    "dsr[\"temp_ok\"] = (dsr.temp > (16 + 273.15)) & (dsr.temp < (27 + 273.15))\n",
    "dsr[\"all_ok\"] = dsr.wind_ok & dsr.rain_ok & dsr.temp_ok"
   ]
  },
  {
   "cell_type": "code",
   "execution_count": null,
   "id": "812e8489-3c3a-4eea-bab3-4329e9f5bd78",
   "metadata": {},
   "outputs": [],
   "source": [
    "res = dsr.sum(dim=\"time\").astype(\"float32\")[\n",
    "    [\n",
    "        \"wind_ok\",\n",
    "        \"rain_ok\",\n",
    "        \"temp_ok\",\n",
    "        \"all_ok\",\n",
    "    ]\n",
    "]"
   ]
  },
  {
   "cell_type": "markdown",
   "id": "082c1e85-b58d-40e4-95d0-aa70d297e22d",
   "metadata": {},
   "source": [
    "## Create pyramids"
   ]
  },
  {
   "cell_type": "code",
   "execution_count": null,
   "id": "1b3e6da5-2dfd-404d-a8c2-007da88f3999",
   "metadata": {},
   "outputs": [],
   "source": [
    "levels = 5\n",
    "pyr = pyramid_reproject(\n",
    "    res,\n",
    "    levels=levels,\n",
    "    resampling=\"nearest\",\n",
    ")"
   ]
  },
  {
   "cell_type": "code",
   "execution_count": null,
   "id": "45835475-3631-41d5-8f3f-319881f9b152",
   "metadata": {},
   "outputs": [],
   "source": [
    "pyr = pyr.chunk(\n",
    "    {\n",
    "        # \"year\": 1,\n",
    "        \"y\": 128,\n",
    "        \"x\": 128,\n",
    "    }\n",
    ")"
   ]
  },
  {
   "cell_type": "markdown",
   "id": "70ff588a-c07d-4d0a-b4c3-4580ac87ddf8",
   "metadata": {},
   "source": [
    "## Save pyramids to local/S3"
   ]
  },
  {
   "cell_type": "code",
   "execution_count": null,
   "id": "869441d8-0b9e-45df-abaa-c5d42079b3de",
   "metadata": {},
   "outputs": [],
   "source": [
    "output = \"s3://BUCKET/viz/name.zarr\"\n",
    "pyr.to_zarr(output, consolidated=True, mode=\"w\")"
   ]
  },
  {
   "cell_type": "markdown",
   "id": "8163c307-538a-4dd8-8a61-58154331d5af",
   "metadata": {},
   "source": [
    "# Scratch\n",
    "Everything below here is just messing around, testing things out."
   ]
  },
  {
   "cell_type": "markdown",
   "id": "2c43c4db-16c3-48ea-b3ca-6fd33660e2b5",
   "metadata": {},
   "source": [
    "## Save raw as Zarr"
   ]
  },
  {
   "cell_type": "code",
   "execution_count": null,
   "id": "1afdf3f3-5aa2-412b-a174-48a3772995ec",
   "metadata": {},
   "outputs": [],
   "source": [
    "res_chunked = res.chunk()\n",
    "path = \"s3://BUCKET/raw/nums_chunked.zarr\"\n",
    "res_chunked.to_zarr(fsspec.get_mapper(path))"
   ]
  },
  {
   "cell_type": "markdown",
   "id": "f62ee0c6-b983-4b76-965d-98486b942dc4",
   "metadata": {},
   "source": [
    "## Load zarr"
   ]
  },
  {
   "cell_type": "code",
   "execution_count": null,
   "id": "54c81fb9-b4e1-4bef-a7ef-157d4d7af347",
   "metadata": {},
   "outputs": [],
   "source": [
    "path = \"s3://BUCKET/viz/nums.zarr\"\n",
    "check = xr.open_zarr(fsspec.get_mapper(path), consolidated=True)"
   ]
  },
  {
   "cell_type": "markdown",
   "id": "5fead4bd-9ddd-45c7-90e7-bfacf45acdb9",
   "metadata": {},
   "source": [
    "## Save as GeoTIFF"
   ]
  },
  {
   "cell_type": "code",
   "execution_count": null,
   "id": "2aa4e77a-f937-4aeb-9c1d-d26465141603",
   "metadata": {},
   "outputs": [],
   "source": [
    "import rasterio\n",
    "from rasterio.transform import from_bounds"
   ]
  },
  {
   "cell_type": "code",
   "execution_count": null,
   "id": "26674f1a-31e5-4e09-bdbe-b09ed4b1cbc9",
   "metadata": {},
   "outputs": [],
   "source": [
    "def save_raster(ds, path):\n",
    "    lat_min, lat_max = float(ds.lat.min()), float(ds.lat.max())\n",
    "    lon_min, lon_max = float(ds.lon.min()), float(ds.lon.max())\n",
    "    width = ds.lon.shape[0]\n",
    "    height = ds.lat.shape[0]\n",
    "    transform = from_bounds(lon_min, lat_min, lon_max, lat_max, width, height)\n",
    "    dtype = \"int32\"\n",
    "    flipped = np.flipud(ds.astype(dtype).values)\n",
    "    with rasterio.open(\n",
    "        path,\n",
    "        \"w\",\n",
    "        driver=\"GTiff\",\n",
    "        height=height,\n",
    "        width=width,\n",
    "        count=1,\n",
    "        dtype=dtype,\n",
    "        crs=\"EPSG:4326\",\n",
    "        transform=transform,\n",
    "    ) as dst:\n",
    "        dst.write(flipped, 1)"
   ]
  },
  {
   "cell_type": "code",
   "execution_count": null,
   "id": "421711a6-df77-45d7-b919-50ae425ec7d5",
   "metadata": {},
   "outputs": [],
   "source": [
    "save_raster(num_wind, \"wind.tif\")"
   ]
  },
  {
   "cell_type": "markdown",
   "id": "7ac87e92-bf7b-4c83-aebc-5dbfc238409c",
   "metadata": {},
   "source": [
    "## Check saved TIFF"
   ]
  },
  {
   "cell_type": "code",
   "execution_count": null,
   "id": "aa952932-cad4-4f06-8d49-dab749d3745f",
   "metadata": {},
   "outputs": [],
   "source": [
    "import matplotlib.pyplot as plt"
   ]
  },
  {
   "cell_type": "code",
   "execution_count": null,
   "id": "0bd7d25c-fe75-4b2d-98f7-0724d92d3275",
   "metadata": {},
   "outputs": [],
   "source": [
    "tif_path = \"rain.tif\"\n",
    "with rasterio.open(tif_path) as dataset:\n",
    "    data = dataset.read(1)  # Reading the first band (assuming single-band GeoTIFF)\n",
    "    plt.imshow(data, cmap=\"viridis\")\n",
    "    plt.colorbar(label=\"Value\")\n",
    "    plt.title(\"GeoTIFF Data Visualization\")\n",
    "    plt.show()"
   ]
  },
  {
   "cell_type": "markdown",
   "id": "baaefb22-f407-48b9-9d9b-cc258804d39c",
   "metadata": {},
   "source": [
    "## Merge raw Zarrs"
   ]
  },
  {
   "cell_type": "code",
   "execution_count": null,
   "id": "42cb2fb5-a693-44fa-a526-82eb3db09a76",
   "metadata": {},
   "outputs": [],
   "source": [
    "datasets = []\n",
    "for year in range(2015, 2021):\n",
    "    path = f\"./s3data/raw/{year}.zarr\"\n",
    "    ds = xr.open_zarr(path)\n",
    "    ds = ds.expand_dims(year=[year])  # Add a new dimension `year` with the value\n",
    "    datasets.append(ds)\n",
    "# Concatenate along the `year` dimension\n",
    "combined_ds = xr.concat(datasets, dim=\"year\")"
   ]
  },
  {
   "cell_type": "code",
   "execution_count": null,
   "id": "c1c1ca35-3f0a-48be-837b-3f1e279d1ce8",
   "metadata": {},
   "outputs": [],
   "source": [
    "# mean_ds = combined_ds.mean(dim=\"year\")\n",
    "# mean_ds = mean_ds.assign_coords(year=\"mean\")  # Set the year coordinate to \"average\"\n",
    "\n",
    "# Concatenate the mean dataset along the `year` dimension\n",
    "# ds_mean = xr.concat([combined_ds, mean_ds], dim=\"year\")"
   ]
  },
  {
   "cell_type": "code",
   "execution_count": null,
   "id": "839feb58-36ee-4a56-b239-92ea8ec9f08b",
   "metadata": {},
   "outputs": [],
   "source": [
    "# dt = xr.open_datatree(\"./s3data/pyr/era5_2020_num_l6.zarr/\", engine=\"zarr\")"
   ]
  }
 ],
 "metadata": {
  "kernelspec": {
   "display_name": "Python 3 (ipykernel)",
   "language": "python",
   "name": "python3"
  },
  "language_info": {
   "codemirror_mode": {
    "name": "ipython",
    "version": 3
   },
   "file_extension": ".py",
   "mimetype": "text/x-python",
   "name": "python",
   "nbconvert_exporter": "python",
   "pygments_lexer": "ipython3",
   "version": "3.12.3"
  },
  "widgets": {
   "application/vnd.jupyter.widget-state+json": {
    "state": {},
    "version_major": 2,
    "version_minor": 0
   }
  }
 },
 "nbformat": 4,
 "nbformat_minor": 5
}
